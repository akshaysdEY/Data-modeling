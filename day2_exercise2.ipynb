{
 "cells": [
  {
   "cell_type": "code",
   "execution_count": 1,
   "metadata": {},
   "outputs": [
    {
     "name": "stdin",
     "output_type": "stream",
     "text": [
      "Enter the rating 2\n"
     ]
    },
    {
     "name": "stdout",
     "output_type": "stream",
     "text": [
      "Avarage movie\n"
     ]
    }
   ],
   "source": [
    "inp = float(input(\"Enter the rating\"))\n",
    "if inp>0 and inp<=1:\n",
    "    print(\"BAD movie\")\n",
    "elif inp>1 and inp<=3:\n",
    "    print(\"Avarage movie\")\n",
    "elif inp>3 and inp<=4.5:\n",
    "    print(\"Great movie\")\n",
    "elif inp>4.5 and inp<=5:\n",
    "    print(\"excelent movie\")\n",
    "else:\n",
    "    print(\"invalid rating\")\n",
    "    "
   ]
  },
  {
   "cell_type": "markdown",
   "metadata": {},
   "source": [
    " Exercise :\n",
    "\n",
    "    Create a list of 10 employees\n",
    "    Create tuple of salaries of these 10 employees\n",
    "    Create a tuple of rating of these 10 employees ( 0 - 10 )\n",
    "    Generate a dictionary of employees and their new salaries based on their ratings The update to salaries should be as\n",
    "    a. For rating 0 - 3 no salaries should be updated\n",
    "\n",
    "    b. For rating 3 - 5 a 3% increment to be given\n",
    "\n",
    "c. For rating 5 - 7 a 5% increment to be given\n",
    "\n",
    "d. For rating 7 - 9 a 7% increment to be given\n",
    "\n",
    "e. For rating 9 and above a 7% increment and a bonus of 10% of initial salary to be given"
   ]
  },
  {
   "cell_type": "code",
   "execution_count": 2,
   "metadata": {},
   "outputs": [],
   "source": [
    "employee = ['a', 'b', 'c', 'c', 'd', 'e', 'f', 'g', 'h', 'i']\n",
    "salaries = (20000, 11000, 16000, 18000, 11000, 19800, 20000, 23500, 15600, 8000)\n",
    "ratings = (2.3, 4.7, 4.3, 9.9, 8.4, 6.1, 6.1, 4.0, 8.8, 9.3)"
   ]
  },
  {
   "cell_type": "code",
   "execution_count": 3,
   "metadata": {},
   "outputs": [
    {
     "name": "stdout",
     "output_type": "stream",
     "text": [
      "[['a', 20000], ['b', 11330.0], ['c', 16480.0], ['c', 21060.0], ['d', 11770.0], ['e', 29700.0], ['f', 30000.0], ['g', 24205.0], ['h', 16692.0], ['i', 9360.0]]\n"
     ]
    }
   ],
   "source": [
    "result = []\n",
    "for emp,sal,rat in zip(employee,salaries,ratings):\n",
    "    if 0.0 <= rat < 3.0 :\n",
    "        temp = [emp]\n",
    "        temp.append(sal)\n",
    "        result.append(temp)\n",
    "    elif 3.0 <= rat < 5.0 :\n",
    "        temp = [emp]\n",
    "        sal += (sal*(3/100))\n",
    "        temp.append(sal)\n",
    "        result.append(temp)\n",
    "    elif 5.0 <= rat < 7.0 :\n",
    "        temp = [emp]\n",
    "        sal += (sal*(5/10))\n",
    "        temp.append(sal)\n",
    "        result.append(temp)\n",
    "    elif 7.0 <= rat < 9.0 : \n",
    "        temp = [emp]\n",
    "        sal += (sal*(7/100))\n",
    "        temp.append(sal)\n",
    "        result.append(temp)\n",
    "    elif 9.0 <= rat : \n",
    "        temp = [emp]\n",
    "        sal += ((sal*(7/100)) + (sal*(10/100))) \n",
    "        temp.append(sal)\n",
    "        \n",
    "        result.append(temp)\n",
    "    else:\n",
    "        print('Invalid Rating')\n",
    "    \n",
    "print(result)\n",
    "    \n",
    "    "
   ]
  },
  {
   "cell_type": "code",
   "execution_count": null,
   "metadata": {},
   "outputs": [],
   "source": []
  }
 ],
 "metadata": {
  "kernelspec": {
   "display_name": "Python 3",
   "language": "python",
   "name": "python3"
  },
  "language_info": {
   "codemirror_mode": {
    "name": "ipython",
    "version": 3
   },
   "file_extension": ".py",
   "mimetype": "text/x-python",
   "name": "python",
   "nbconvert_exporter": "python",
   "pygments_lexer": "ipython3",
   "version": "3.7.6"
  }
 },
 "nbformat": 4,
 "nbformat_minor": 4
}
