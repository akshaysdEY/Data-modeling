{
 "cells": [
  {
   "cell_type": "code",
   "execution_count": 1,
   "metadata": {},
   "outputs": [],
   "source": [
    "def str_concat(a,b):\n",
    "    print(\"The concatination of two string is : \" , a+b)"
   ]
  },
  {
   "cell_type": "code",
   "execution_count": 2,
   "metadata": {},
   "outputs": [
    {
     "name": "stdout",
     "output_type": "stream",
     "text": [
      "The concatination of two string is :  Helloworld\n"
     ]
    }
   ],
   "source": [
    "str_concat(\"Hello\",\"world\")"
   ]
  },
  {
   "cell_type": "code",
   "execution_count": 3,
   "metadata": {},
   "outputs": [
    {
     "name": "stdout",
     "output_type": "stream",
     "text": [
      "The concatination of two string is :  Hello world\n"
     ]
    }
   ],
   "source": [
    "def str_concat_withspace(a,b):\n",
    "    print(\"The concatination of two string is : \" , a+\" \"+b)\n",
    "str_concat_withspace(\"Hello\",\"world\")"
   ]
  },
  {
   "cell_type": "code",
   "execution_count": 4,
   "metadata": {},
   "outputs": [
    {
     "name": "stdout",
     "output_type": "stream",
     "text": [
      "The difference between length is :  0\n"
     ]
    }
   ],
   "source": [
    "def dif_inlength(a,b):\n",
    "    print(\"The difference between length is : \",len(b)-len(a))\n",
    "dif_inlength(\"hello\",\"world\")"
   ]
  },
  {
   "cell_type": "code",
   "execution_count": 5,
   "metadata": {},
   "outputs": [
    {
     "name": "stdout",
     "output_type": "stream",
     "text": [
      "division not posible\n",
      "invalid operation\n"
     ]
    },
    {
     "data": {
      "text/plain": [
       "0"
      ]
     },
     "execution_count": 5,
     "metadata": {},
     "output_type": "execute_result"
    }
   ],
   "source": [
    "def operations(a,b,operation):\n",
    "    if operation == \"+\":\n",
    "        return a+b\n",
    "    elif operation == \"-\":\n",
    "        return a-b\n",
    "    elif operation == \"*\":\n",
    "        return a*b\n",
    "    elif operation == \"/\":\n",
    "        if (a==0 or b==0):\n",
    "            print(\"division not posible\")\n",
    "            return 0\n",
    "        else:\n",
    "            return a/b\n",
    "    else:\n",
    "        print(\"invalid operation\")\n",
    "        return 0\n",
    "add = operations(1,2,\"+\")\n",
    "print(\"addition : \",add)\n",
    "sub = operations(4,3,\"-\")\n",
    "print(\"substraction : \",sub)\n",
    "mul = operations(2,3,\"*\")\n",
    "print(\"multiplication : \",mul)\n",
    "div = operations(4,2,\"/\")\n",
    "print(\"division : \",div)\n",
    "operations(0,2,\"/\")\n",
    "operations(2,3,\".\")\n",
    "        "
   ]
  },
  {
   "cell_type": "code",
   "execution_count": null,
   "metadata": {},
   "outputs": [],
   "source": []
  }
 ],
 "metadata": {
  "kernelspec": {
   "display_name": "Python 3",
   "language": "python",
   "name": "python3"
  },
  "language_info": {
   "codemirror_mode": {
    "name": "ipython",
    "version": 3
   },
   "file_extension": ".py",
   "mimetype": "text/x-python",
   "name": "python",
   "nbconvert_exporter": "python",
   "pygments_lexer": "ipython3",
   "version": "3.7.6"
  }
 },
 "nbformat": 4,
 "nbformat_minor": 4
}
