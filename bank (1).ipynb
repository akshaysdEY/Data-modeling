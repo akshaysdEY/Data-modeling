{
 "cells": [
  {
   "cell_type": "code",
   "execution_count": 13,
   "metadata": {},
   "outputs": [
    {
     "data": {
      "text/plain": [
       "{'akshay': {'password': 'asd', 'balance': 1000, 'transactions': []}}"
      ]
     },
     "execution_count": 13,
     "metadata": {},
     "output_type": "execute_result"
    }
   ],
   "source": [
    "bank = {}\n",
    "def add_user(name,password,balance):\n",
    "    bank[name]={}\n",
    "    bank[name][\"password\"]=password\n",
    "    bank[name][\"balance\"] = balance\n",
    "    bank[name][\"transactions\"] = []\n",
    "add_user(\"akshay\",\"asd\",1000)\n",
    "bank\n",
    "\n"
   ]
  },
  {
   "cell_type": "code",
   "execution_count": 15,
   "metadata": {},
   "outputs": [
    {
     "name": "stdin",
     "output_type": "stream",
     "text": [
      "Enter name or x to exit:  akshay\n",
      "Enter password :  asd\n"
     ]
    },
    {
     "name": "stdout",
     "output_type": "stream",
     "text": [
      "logged in \n"
     ]
    },
    {
     "name": "stdin",
     "output_type": "stream",
     "text": [
      "Enter 1 for deposit,2 for witdraw , 3 for transactions , 4 for balance,5 to logoff 1\n",
      "enter amount to deposit :  500\n"
     ]
    },
    {
     "name": "stdout",
     "output_type": "stream",
     "text": [
      "Deposite succseful\n"
     ]
    },
    {
     "name": "stdin",
     "output_type": "stream",
     "text": [
      "Enter 1 for deposit,2 for witdraw , 3 for transactions , 4 for balance,5 to logoff 3\n"
     ]
    },
    {
     "name": "stdout",
     "output_type": "stream",
     "text": [
      "Deposit : 500\n"
     ]
    },
    {
     "name": "stdin",
     "output_type": "stream",
     "text": [
      "Enter 1 for deposit,2 for witdraw , 3 for transactions , 4 for balance,5 to logoff 3\n"
     ]
    },
    {
     "name": "stdout",
     "output_type": "stream",
     "text": [
      "Deposit : 500\n"
     ]
    },
    {
     "name": "stdin",
     "output_type": "stream",
     "text": [
      "Enter 1 for deposit,2 for witdraw , 3 for transactions , 4 for balance,5 to logoff 4\n"
     ]
    },
    {
     "name": "stdout",
     "output_type": "stream",
     "text": [
      "1500\n"
     ]
    },
    {
     "name": "stdin",
     "output_type": "stream",
     "text": [
      "Enter 1 for deposit,2 for witdraw , 3 for transactions , 4 for balance,5 to logoff 5\n"
     ]
    },
    {
     "name": "stdout",
     "output_type": "stream",
     "text": [
      "Logged off\n"
     ]
    }
   ],
   "source": [
    "def withdraw(user,password,amount,bank):\n",
    "    if bank[user][\"password\"]!=password:\n",
    "        print(\"incorect password try again\")\n",
    "    elif bank[user][\"balance\"]<amount:\n",
    "        print(\"Not sufficient balance \")\n",
    "    else:\n",
    "        bank[user][\"balance\"] -=amount\n",
    "        bank[user][\"transactions\"].append(\"Withdraw : %s\" %(amount))\n",
    "        print(\"withdraw succesfull\")\n",
    "def deposite(user,amount,bank):\n",
    "    bank[user][\"balance\"] += amount\n",
    "    bank[user][\"transactions\"].append(\"Deposit : %s\" %(amount))\n",
    "    print(\"Deposite succseful\")\n",
    "    \n",
    "def transactions(user,bank):\n",
    "    for i in bank[user][\"transactions\"]:\n",
    "        print(i)\n",
    "def balance(user,bank):\n",
    "    print(bank[user][\"balance\"])\n",
    "    \n",
    "def start(bank):\n",
    "    \n",
    "    while(True):\n",
    "        name = input(\"Enter name or x to exit: \")\n",
    "        if name == 'x':\n",
    "            break;\n",
    "        if name not in bank.keys():\n",
    "            print(\"user not defined \")\n",
    "        else:\n",
    "            password = input(\"Enter password : \")\n",
    "            if bank[name][\"password\"] == password:\n",
    "                print(\"logged in \")\n",
    "                break;\n",
    "            else:\n",
    "                print(\"incorect password please try again\")\n",
    "    while(True):\n",
    "        opt = int(input(\"Enter 1 for deposit,2 for witdraw , 3 for transactions , 4 for balance,5 to logoff\"))\n",
    "        if(opt==1):\n",
    "            a = int(input(\"enter amount to deposit : \"))\n",
    "            deposite(name,a,bank)\n",
    "        elif opt == 2:\n",
    "            a = int(input(\"enter amount to withdraw : \"))\n",
    "            b = input(\"Confirm password : \")\n",
    "            withdraw(name,b,a,bank)\n",
    "        elif (opt==3):\n",
    "            transactions(name,bank)\n",
    "        elif (opt==4):\n",
    "            balance(name,bank)\n",
    "        elif opt ==5:\n",
    "            print(\"Logged off\")\n",
    "            break\n",
    "        else:\n",
    "            print(\"Incorrect option\")\n",
    "start(bank)\n",
    "   "
   ]
  },
  {
   "cell_type": "code",
   "execution_count": null,
   "metadata": {},
   "outputs": [],
   "source": []
  }
 ],
 "metadata": {
  "kernelspec": {
   "display_name": "Python 3",
   "language": "python",
   "name": "python3"
  },
  "language_info": {
   "codemirror_mode": {
    "name": "ipython",
    "version": 3
   },
   "file_extension": ".py",
   "mimetype": "text/x-python",
   "name": "python",
   "nbconvert_exporter": "python",
   "pygments_lexer": "ipython3",
   "version": "3.7.6"
  }
 },
 "nbformat": 4,
 "nbformat_minor": 4
}
