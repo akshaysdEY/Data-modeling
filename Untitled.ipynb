{
 "cells": [
  {
   "cell_type": "code",
   "execution_count": 2,
   "metadata": {},
   "outputs": [
    {
     "data": {
      "text/plain": [
       "{'integer': 3,\n",
       " 'list_integers': [1, 2, 4, 5],\n",
       " 'string': 'AKSHAY',\n",
       " 'list_int_str': [6, 'seven', 8, 'nine'],\n",
       " 'tup_int': (10, 11, 12),\n",
       " 'set_str': {'There', 'hello', 'hi'},\n",
       " 'list_str': ['ABCD', 'EFGH', 'IJKL']}"
      ]
     },
     "execution_count": 2,
     "metadata": {},
     "output_type": "execute_result"
    }
   ],
   "source": [
    "a = 3\n",
    "list_integers = [1,2,4,5]\n",
    "string = \"AKSHAY\"\n",
    "list_int_str = [6,\"seven\",8,\"nine\"]\n",
    "tup_int = (10,11,12)\n",
    "set_str = {\"hi\",\"There\",\"hello\"}\n",
    "list_str = [\"ABCD\",\"EFGH\",\"IJKL\"]\n",
    "dictonary = {}\n",
    "dictonary[\"integer\"] = a\n",
    "dictonary[\"list_integers\"] = list_integers\n",
    "dictonary[\"string\"] = string\n",
    "dictonary[\"list_int_str\"] = list_int_str\n",
    "dictonary[\"tup_int\"] = tup_int\n",
    "dictonary[\"set_str\"] = set_str\n",
    "dictonary[\"list_str\"] = list_str\n",
    "dictonary"
   ]
  },
  {
   "cell_type": "code",
   "execution_count": 3,
   "metadata": {},
   "outputs": [
    {
     "data": {
      "text/plain": [
       "3"
      ]
     },
     "execution_count": 3,
     "metadata": {},
     "output_type": "execute_result"
    }
   ],
   "source": [
    "dictonary[\"integer\"]"
   ]
  },
  {
   "cell_type": "code",
   "execution_count": 4,
   "metadata": {},
   "outputs": [
    {
     "data": {
      "text/plain": [
       "[6, 'seven', 8, 'nine']"
      ]
     },
     "execution_count": 4,
     "metadata": {},
     "output_type": "execute_result"
    }
   ],
   "source": [
    "dictonary[\"list_int_str\"]"
   ]
  },
  {
   "cell_type": "code",
   "execution_count": 5,
   "metadata": {},
   "outputs": [
    {
     "data": {
      "text/plain": [
       "8"
      ]
     },
     "execution_count": 5,
     "metadata": {},
     "output_type": "execute_result"
    }
   ],
   "source": [
    "dictonary[\"list_int_str\"][2]"
   ]
  },
  {
   "cell_type": "code",
   "execution_count": 7,
   "metadata": {},
   "outputs": [
    {
     "data": {
      "text/plain": [
       "(10, 11, 12)"
      ]
     },
     "execution_count": 7,
     "metadata": {},
     "output_type": "execute_result"
    }
   ],
   "source": [
    "dictonary[\"tup_int\"]"
   ]
  },
  {
   "cell_type": "code",
   "execution_count": 9,
   "metadata": {},
   "outputs": [
    {
     "data": {
      "text/plain": [
       "12"
      ]
     },
     "execution_count": 9,
     "metadata": {},
     "output_type": "execute_result"
    }
   ],
   "source": [
    "dictonary[\"tup_int\"][2]"
   ]
  },
  {
   "cell_type": "code",
   "execution_count": null,
   "metadata": {},
   "outputs": [],
   "source": []
  }
 ],
 "metadata": {
  "kernelspec": {
   "display_name": "Python 3",
   "language": "python",
   "name": "python3"
  },
  "language_info": {
   "codemirror_mode": {
    "name": "ipython",
    "version": 3
   },
   "file_extension": ".py",
   "mimetype": "text/x-python",
   "name": "python",
   "nbconvert_exporter": "python",
   "pygments_lexer": "ipython3",
   "version": "3.7.6"
  }
 },
 "nbformat": 4,
 "nbformat_minor": 4
}
