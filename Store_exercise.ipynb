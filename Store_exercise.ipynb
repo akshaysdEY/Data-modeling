{
 "cells": [
  {
   "cell_type": "code",
   "execution_count": 19,
   "metadata": {},
   "outputs": [
    {
     "data": {
      "text/plain": [
       "{'choclate': {'ID': 1, 'Mrp': 20, 'quantity': 20, 'Size': 20},\n",
       " 'Ice cream': {'ID': 2, 'Mrp': 50, 'quantity': 30, 'Size': 30},\n",
       " 'Redbull': {'ID': 3, 'Mrp': 80, 'quantity': 40, 'Size': 40},\n",
       " 'Bread': {'ID': 4, 'Mrp': 40, 'quantity': 50, 'Size': 200}}"
      ]
     },
     "execution_count": 19,
     "metadata": {},
     "output_type": "execute_result"
    }
   ],
   "source": [
    "iteams = {}\n",
    "iteams[\"choclate\"] = {\"ID\":1,\"Mrp\":20 ,\"quantity\":20,\"Size\":20}\n",
    "iteams[\"Ice cream\"] = {\"ID\":2,\"Mrp\":50,\"quantity\":30,\"Size\":30}\n",
    "iteams[\"Redbull\"] = {\"ID\":3,\"Mrp\":80,\"quantity\":40,\"Size\":40}\n",
    "iteams[\"Bread\"] = {\"ID\":4,\"Mrp\":40,\"quantity\":50,\"Size\":200}\n",
    "iteams"
   ]
  },
  {
   "cell_type": "code",
   "execution_count": 13,
   "metadata": {},
   "outputs": [
    {
     "name": "stdout",
     "output_type": "stream",
     "text": [
      " choclate: MRP = 20 , Size = 20 , Available : 20\n",
      " Ice cream: MRP = 50 , Size = 30 , Available : 30\n",
      " Redbull: MRP = 80 , Size = 40 , Available : 40\n",
      " Bread: MRP = 40 , Size = 200 , Available : 50\n"
     ]
    }
   ],
   "source": [
    "def show_iteams(iteams):\n",
    "    for i in iteams.keys():\n",
    "        print(\" %s: MRP = %s , Size = %s , Available : %s\" %(i,iteams[i][\"Mrp\"],iteams[i][\"Size\"],iteams[i][\"quantity\"]))\n",
    "show_iteams(iteams)"
   ]
  },
  {
   "cell_type": "code",
   "execution_count": 29,
   "metadata": {},
   "outputs": [
    {
     "name": "stdout",
     "output_type": "stream",
     "text": [
      " choclate: MRP = 20 , Size = 20 , Available : 19\n",
      " Ice cream: MRP = 50 , Size = 30 , Available : 30\n",
      " Redbull: MRP = 80 , Size = 40 , Available : 40\n",
      " Bread: MRP = 40 , Size = 200 , Available : 48\n",
      "Enetr the iteam to purchase , enter x to exit : \n"
     ]
    },
    {
     "name": "stdin",
     "output_type": "stream",
     "text": [
      " Bread\n"
     ]
    },
    {
     "name": "stdout",
     "output_type": "stream",
     "text": [
      " choclate: MRP = 20 , Size = 20 , Available : 19\n",
      " Ice cream: MRP = 50 , Size = 30 , Available : 30\n",
      " Redbull: MRP = 80 , Size = 40 , Available : 40\n",
      " Bread: MRP = 40 , Size = 200 , Available : 47\n",
      "Enetr the iteam to purchase , enter x to exit : \n"
     ]
    },
    {
     "name": "stdin",
     "output_type": "stream",
     "text": [
      " Bread\n"
     ]
    },
    {
     "name": "stdout",
     "output_type": "stream",
     "text": [
      " choclate: MRP = 20 , Size = 20 , Available : 19\n",
      " Ice cream: MRP = 50 , Size = 30 , Available : 30\n",
      " Redbull: MRP = 80 , Size = 40 , Available : 40\n",
      " Bread: MRP = 40 , Size = 200 , Available : 46\n",
      "Enetr the iteam to purchase , enter x to exit : \n"
     ]
    },
    {
     "name": "stdin",
     "output_type": "stream",
     "text": [
      " x\n"
     ]
    },
    {
     "name": "stdout",
     "output_type": "stream",
     "text": [
      "final:  {'Bread': 2}\n",
      "Total cost :  80\n"
     ]
    }
   ],
   "source": [
    "import random\n",
    "def purchase(iteams):\n",
    "    final = {}\n",
    "    while(True):\n",
    "        show_iteams(iteams)\n",
    "        print(\"Enetr the iteam to purchase , enter x to exit : \")\n",
    "        inp = input()\n",
    "        if inp == \"x\":\n",
    "            break;\n",
    "        else:\n",
    "            if iteams[inp][\"quantity\"] == 0:\n",
    "                print(\"Iteam out of stock\")\n",
    "            else:\n",
    "                if inp in final.keys():\n",
    "                    final[inp] +=1\n",
    "                    iteams[inp][\"quantity\"]-=1\n",
    "                else:\n",
    "                    final[inp] = 1\n",
    "                    iteams[inp][\"quantity\"]-=1\n",
    "    total_cost = 0\n",
    "    print(\"final: \",final)\n",
    "    for i in final.keys():\n",
    "        total_cost += (final[i]*iteams[i][\"Mrp\"])\n",
    "    print(\"Total cost : \",total_cost)\n",
    "    f = open(\"bills.txt\", \"a\")\n",
    "    a = random.randint(1,1000)\n",
    "    f.write(\"Bill for order id : %s ,iteams perchased : %s ,total cost : %s \"%(a,final,total_cost))\n",
    "    f.close()\n",
    "        \n",
    "purchase(iteams)\n"
   ]
  },
  {
   "cell_type": "code",
   "execution_count": null,
   "metadata": {},
   "outputs": [],
   "source": []
  }
 ],
 "metadata": {
  "kernelspec": {
   "display_name": "Python 3",
   "language": "python",
   "name": "python3"
  },
  "language_info": {
   "codemirror_mode": {
    "name": "ipython",
    "version": 3
   },
   "file_extension": ".py",
   "mimetype": "text/x-python",
   "name": "python",
   "nbconvert_exporter": "python",
   "pygments_lexer": "ipython3",
   "version": "3.7.6"
  }
 },
 "nbformat": 4,
 "nbformat_minor": 4
}
